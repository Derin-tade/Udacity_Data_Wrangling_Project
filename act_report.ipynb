{
 "cells": [
  {
   "cell_type": "markdown",
   "id": "fb530464",
   "metadata": {},
   "source": [
    "# Reporting: act_report"
   ]
  },
  {
   "cell_type": "markdown",
   "id": "b7af1f4d",
   "metadata": {},
   "source": [
    "# Insights and Visualisations"
   ]
  },
  {
   "cell_type": "markdown",
   "id": "92cb7ce2",
   "metadata": {},
   "source": [
    "Here are some of the insights generated after our data wrangling.<br>\n",
    "The questions I asked of the cleaned data set are:"
   ]
  },
  {
   "cell_type": "markdown",
   "id": "ead9ad64",
   "metadata": {},
   "source": [
    "### - What hour of the day do people post WeRateDogs related tweets the most?"
   ]
  },
  {
   "cell_type": "markdown",
   "id": "f7d3180d",
   "metadata": {},
   "source": [
    "![Code Snippet](checking_for_hours.png)"
   ]
  },
  {
   "cell_type": "code",
   "execution_count": 6,
   "id": "2fb86b15",
   "metadata": {},
   "outputs": [
    {
     "data": {
      "text/plain": [
       "50.50150451354062"
      ]
     },
     "execution_count": 6,
     "metadata": {},
     "output_type": "execute_result"
    }
   ],
   "source": [
    "((278+253+210+170+96)/1994) * 100"
   ]
  },
  {
   "cell_type": "markdown",
   "id": "87222f56",
   "metadata": {},
   "source": [
    "From the value counts of the hours posts are made we can see that quite a large number of posts are made in the midnight. Of our current 1994 rows, about 50% of the tweets occur between midnight and 5am. Six hours are missing from our 24 hours in a day. From 7am to 1pm no tweets are recorded. One reason would be that the early hours of the day usually requires many people to be busy with school, work, or chores. "
   ]
  },
  {
   "cell_type": "markdown",
   "id": "12a1bff2",
   "metadata": {},
   "source": [
    "### - What day of the week do people post WeRateDogs related tweets the most?"
   ]
  },
  {
   "cell_type": "markdown",
   "id": "210988da",
   "metadata": {},
   "source": [
    "![weekdays](weekdays_of_tweets.png)"
   ]
  },
  {
   "cell_type": "markdown",
   "id": "5e888418",
   "metadata": {},
   "source": [
    "![Tweets per week day](tweets_per_weekday.png)"
   ]
  },
  {
   "cell_type": "markdown",
   "id": "6759d311",
   "metadata": {},
   "source": [
    "I would have though that since tweets like these are more leisure related a lot should have been done on weekends, however weekends are among the least represented from this table. What do you think might be the reason?"
   ]
  },
  {
   "cell_type": "markdown",
   "id": "a3a024b9",
   "metadata": {},
   "source": [
    "### - What are the top five  retweeted and liked tweets combined?"
   ]
  },
  {
   "cell_type": "markdown",
   "id": "e5de6848",
   "metadata": {},
   "source": [
    "I wanted to know the most popular or famous pups from this archives. So I added the umber of favourites and retweets to make a new popularity column. With this new column I found the top five values in popularity using the `n_largest` function. I also extracted their jpg_urls. Here is one of our really cute images from the top5 popular tweets. The remaining urls are listed below."
   ]
  },
  {
   "cell_type": "markdown",
   "id": "371285e3",
   "metadata": {},
   "source": [
    "![Our no 5 topdog](https://pbs.twimg.com/media/DAZAUfBXcAAG_Nn.jpg)"
   ]
  },
  {
   "cell_type": "markdown",
   "id": "dd0c95fb",
   "metadata": {},
   "source": [
    "1. https://pbs.twimg.com/ext_tw_video_thumb/744234667679821824/pu/img/1GaWmtJtdqzZV7jy.jpg\n",
    "2. https://pbs.twimg.com/media/C2tugXLXgAArJO4.jpg\n",
    "3. https://pbs.twimg.com/ext_tw_video_thumb/807106774843039744/pu/img/8XZg1xW35Xp2J6JW.jpg\n",
    "4. https://pbs.twimg.com/ext_tw_video_thumb/879415784908390401/pu/img/cX7XI1TnUsseGET5.jpg\n",
    "5. https://pbs.twimg.com/media/DAZAUfBXcAAG_Nn.jpg"
   ]
  },
  {
   "cell_type": "markdown",
   "id": "7c67d490",
   "metadata": {},
   "source": [
    "### - What are the most common dog breeds according to p1?"
   ]
  },
  {
   "cell_type": "markdown",
   "id": "32c7740a",
   "metadata": {},
   "source": [
    "In order to get the most common dog breeds I created a word cloud of the predictions with the highest confidence scores: p1. This still includes the false none dog breed names like seatbelt. I did this just to see if certain false predictions occur a lot."
   ]
  },
  {
   "cell_type": "markdown",
   "id": "1a28846a",
   "metadata": {},
   "source": [
    "![TMost common breed of dogs](p1breeds_wordcloud.png)"
   ]
  },
  {
   "cell_type": "markdown",
   "id": "32176107",
   "metadata": {},
   "source": [
    "Clearly, the most common dog breeds in the p1 column of the image_prediction table is the __golden_retriever__. seat_belt is a pretty akward dog breed name."
   ]
  },
  {
   "cell_type": "code",
   "execution_count": null,
   "id": "25e93a0d",
   "metadata": {},
   "outputs": [],
   "source": []
  }
 ],
 "metadata": {
  "kernelspec": {
   "display_name": "Python 3 (ipykernel)",
   "language": "python",
   "name": "python3"
  },
  "language_info": {
   "codemirror_mode": {
    "name": "ipython",
    "version": 3
   },
   "file_extension": ".py",
   "mimetype": "text/x-python",
   "name": "python",
   "nbconvert_exporter": "python",
   "pygments_lexer": "ipython3",
   "version": "3.9.7"
  }
 },
 "nbformat": 4,
 "nbformat_minor": 5
}
